{
 "cells": [
  {
   "cell_type": "code",
   "execution_count": 1,
   "metadata": {},
   "outputs": [],
   "source": [
    "import os\n",
    "import zipfile\n",
    "import numpy as np\n",
    "import tensorflow as tf\n",
    "\n",
    "from tensorflow import keras\n",
    "from tensorflow.keras import layers"
   ]
  },
  {
   "cell_type": "code",
   "execution_count": 2,
   "metadata": {},
   "outputs": [],
   "source": [
    "import nibabel as nib\n",
    "\n",
    "from scipy import ndimage\n",
    "\n",
    "def read_nifti_file(filepath):\n",
    "    \"\"\"Read and load volume\"\"\"\n",
    "    # Read file\n",
    "    scan = nib.load(filepath)\n",
    "    # Get raw data\n",
    "    scan = scan.get_fdata()\n",
    "    return scan\n",
    "\n",
    "def normalize(volume):\n",
    "    \"\"\"Normalize the volume\"\"\"\n",
    "    min = -1000\n",
    "    max = 400\n",
    "    volume[volume < min] = min\n",
    "    volume[volume > max] = max\n",
    "    volume = (volume - min) / (max - min)\n",
    "    volume = volume.astype(\"float32\")\n",
    "    return volume\n",
    "\n",
    "def process_scan(path):\n",
    "    \"\"\"Read and resize volume\"\"\"\n",
    "    # Read scan\n",
    "    volume = read_nifti_file(path)\n",
    "    # Normalize\n",
    "    volume = normalize(volume)\n",
    "    return volume"
   ]
  },
  {
   "cell_type": "markdown",
   "metadata": {},
   "source": [
    "### Touch level 1,4 train/val data set"
   ]
  },
  {
   "cell_type": "code",
   "execution_count": 14,
   "metadata": {},
   "outputs": [
    {
     "name": "stdout",
     "output_type": "stream",
     "text": [
      "Train set: MRI scans with level1 brain tissue: 579\n",
      "Train set: MRI scans with level4 brain tissue: 572\n"
     ]
    }
   ],
   "source": [
    "touch_level_1_paths = [\n",
    "    os.path.join(os.getcwd(), \"MRI_nii/touch/level_1\", x)\n",
    "    for x in os.listdir(\"MRI_nii/touch/level_1\")\n",
    "]\n",
    "touch_level_4_paths = [\n",
    "    os.path.join(os.getcwd(), \"MRI_nii/touch/level_4\", x)\n",
    "    for x in os.listdir(\"MRI_nii/touch/level_4\")\n",
    "]\n",
    "print(\"Train set: MRI scans with level1 brain tissue: \" + str(len(touch_level_1_paths)))\n",
    "print(\"Train set: MRI scans with level4 brain tissue: \" + str(len(touch_level_4_paths)))"
   ]
  },
  {
   "cell_type": "code",
   "execution_count": 17,
   "metadata": {},
   "outputs": [
    {
     "name": "stdout",
     "output_type": "stream",
     "text": [
      "Number of samples in train and validation are 810 and 341.\n"
     ]
    }
   ],
   "source": [
    "# Read and process the scans.\n",
    "# Each scan is resized across height, width, and depth and rescaled.\n",
    "touch_1_scans = np.array([process_scan(path) for path in touch_level_1_paths])\n",
    "touch_4_scans = np.array([process_scan(path) for path in touch_level_4_paths])\n",
    "\n",
    "touch_1_labels = np.array([1 for _ in range(len(touch_1_scans))])\n",
    "touch_4_labels = np.array([0 for _ in range(len(touch_4_scans))])\n",
    "\n",
    "# Split data into training and validation splits\n",
    "x_train = np.concatenate((touch_1_scans[:round(len(touch_level_1_paths)*0.7)], touch_4_scans[:round(len(touch_level_1_paths)*0.7)]), axis=0)\n",
    "y_train = np.concatenate((touch_1_labels[:round(len(touch_level_1_paths)*0.7)], touch_4_labels[:round(len(touch_level_1_paths)*0.7)]), axis=0)\n",
    "x_val = np.concatenate((touch_1_scans[round(len(touch_level_1_paths)*0.7):], touch_4_scans[round(len(touch_level_1_paths)*0.7):]), axis=0)\n",
    "y_val = np.concatenate((touch_1_labels[round(len(touch_level_1_paths)*0.7):], touch_4_labels[round(len(touch_level_1_paths)*0.7):]), axis=0)\n",
    "\n",
    "print(\n",
    "    \"Number of samples in train and validation are %d and %d.\"\n",
    "    % (x_train.shape[0], x_val.shape[0])\n",
    ")"
   ]
  }
 ],
 "metadata": {
  "kernelspec": {
   "display_name": "Python 3.10.2 ('restaurant': venv)",
   "language": "python",
   "name": "python3"
  },
  "language_info": {
   "codemirror_mode": {
    "name": "ipython",
    "version": 3
   },
   "file_extension": ".py",
   "mimetype": "text/x-python",
   "name": "python",
   "nbconvert_exporter": "python",
   "pygments_lexer": "ipython3",
   "version": "3.10.2"
  },
  "orig_nbformat": 4,
  "vscode": {
   "interpreter": {
    "hash": "d78c4f310c0958fa04761d33a45bcb7f467e1f55b46389a6ffa004e491a9e740"
   }
  }
 },
 "nbformat": 4,
 "nbformat_minor": 2
}
