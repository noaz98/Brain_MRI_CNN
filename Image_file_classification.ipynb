{
 "cells": [
  {
   "cell_type": "markdown",
   "metadata": {},
   "source": [
    "# 인공지능을 사용한 뇌 MRI 이미지 분류\n",
    "## 끈적이는 정도를 level 1 ~ 4까지로 피실험자의 visual / touch / auditory 3가지 방법을 통해 CNN 이미지 인공지능을 사용하여 뇌의 MRI 이미지를 분류한 프로젝트 \n",
    "### - 작성자 : 권민호 / 프로젝트 인원 : 2명\n",
    "#### - 작성 일자 : 2022/09/29 , 프로젝트 일자 : 2022/09/15 ~ "
   ]
  },
  {
   "cell_type": "code",
   "execution_count": 1,
   "metadata": {},
   "outputs": [
    {
     "name": "stderr",
     "output_type": "stream",
     "text": [
      "Copying files: 2304 files [01:19, 29.03 files/s] \n"
     ]
    }
   ],
   "source": [
    "import pandas as pd\n",
    "import os\n",
    "import shutil\n",
    "\n",
    "# import splitfolders # train folder split\n",
    "# splitfolders.ratio('./MRI_nii/touch/',output='./touch_train',seed=2304,ratio=(0.7,0.3))"
   ]
  },
  {
   "cell_type": "markdown",
   "metadata": {},
   "source": [
    "## .csv file 전처리"
   ]
  },
  {
   "cell_type": "code",
   "execution_count": 3,
   "metadata": {},
   "outputs": [
    {
     "data": {
      "text/html": [
       "<div>\n",
       "<style scoped>\n",
       "    .dataframe tbody tr th:only-of-type {\n",
       "        vertical-align: middle;\n",
       "    }\n",
       "\n",
       "    .dataframe tbody tr th {\n",
       "        vertical-align: top;\n",
       "    }\n",
       "\n",
       "    .dataframe thead th {\n",
       "        text-align: right;\n",
       "    }\n",
       "</style>\n",
       "<table border=\"1\" class=\"dataframe\">\n",
       "  <thead>\n",
       "    <tr style=\"text-align: right;\">\n",
       "      <th></th>\n",
       "      <th>subj</th>\n",
       "      <th>trial</th>\n",
       "      <th>level</th>\n",
       "      <th>modality</th>\n",
       "      <th>orders</th>\n",
       "    </tr>\n",
       "  </thead>\n",
       "  <tbody>\n",
       "    <tr>\n",
       "      <th>0</th>\n",
       "      <td>2</td>\n",
       "      <td>1</td>\n",
       "      <td>3</td>\n",
       "      <td>touch</td>\n",
       "      <td>1</td>\n",
       "    </tr>\n",
       "    <tr>\n",
       "      <th>1</th>\n",
       "      <td>2</td>\n",
       "      <td>2</td>\n",
       "      <td>4</td>\n",
       "      <td>touch</td>\n",
       "      <td>1</td>\n",
       "    </tr>\n",
       "    <tr>\n",
       "      <th>2</th>\n",
       "      <td>2</td>\n",
       "      <td>3</td>\n",
       "      <td>3</td>\n",
       "      <td>touch</td>\n",
       "      <td>1</td>\n",
       "    </tr>\n",
       "    <tr>\n",
       "      <th>3</th>\n",
       "      <td>2</td>\n",
       "      <td>4</td>\n",
       "      <td>1</td>\n",
       "      <td>touch</td>\n",
       "      <td>1</td>\n",
       "    </tr>\n",
       "    <tr>\n",
       "      <th>4</th>\n",
       "      <td>2</td>\n",
       "      <td>5</td>\n",
       "      <td>4</td>\n",
       "      <td>touch</td>\n",
       "      <td>1</td>\n",
       "    </tr>\n",
       "    <tr>\n",
       "      <th>...</th>\n",
       "      <td>...</td>\n",
       "      <td>...</td>\n",
       "      <td>...</td>\n",
       "      <td>...</td>\n",
       "      <td>...</td>\n",
       "    </tr>\n",
       "    <tr>\n",
       "      <th>6907</th>\n",
       "      <td>27</td>\n",
       "      <td>44</td>\n",
       "      <td>2</td>\n",
       "      <td>auditory</td>\n",
       "      <td>2</td>\n",
       "    </tr>\n",
       "    <tr>\n",
       "      <th>6908</th>\n",
       "      <td>27</td>\n",
       "      <td>45</td>\n",
       "      <td>1</td>\n",
       "      <td>auditory</td>\n",
       "      <td>2</td>\n",
       "    </tr>\n",
       "    <tr>\n",
       "      <th>6909</th>\n",
       "      <td>27</td>\n",
       "      <td>46</td>\n",
       "      <td>4</td>\n",
       "      <td>auditory</td>\n",
       "      <td>2</td>\n",
       "    </tr>\n",
       "    <tr>\n",
       "      <th>6910</th>\n",
       "      <td>27</td>\n",
       "      <td>47</td>\n",
       "      <td>4</td>\n",
       "      <td>auditory</td>\n",
       "      <td>2</td>\n",
       "    </tr>\n",
       "    <tr>\n",
       "      <th>6911</th>\n",
       "      <td>27</td>\n",
       "      <td>48</td>\n",
       "      <td>2</td>\n",
       "      <td>auditory</td>\n",
       "      <td>2</td>\n",
       "    </tr>\n",
       "  </tbody>\n",
       "</table>\n",
       "<p>6912 rows × 5 columns</p>\n",
       "</div>"
      ],
      "text/plain": [
       "      subj  trial  level  modality  orders\n",
       "0        2      1      3     touch       1\n",
       "1        2      2      4     touch       1\n",
       "2        2      3      3     touch       1\n",
       "3        2      4      1     touch       1\n",
       "4        2      5      4     touch       1\n",
       "...    ...    ...    ...       ...     ...\n",
       "6907    27     44      2  auditory       2\n",
       "6908    27     45      1  auditory       2\n",
       "6909    27     46      4  auditory       2\n",
       "6910    27     47      4  auditory       2\n",
       "6911    27     48      2  auditory       2\n",
       "\n",
       "[6912 rows x 5 columns]"
      ]
     },
     "execution_count": 3,
     "metadata": {},
     "output_type": "execute_result"
    }
   ],
   "source": [
    "# subj : 피실험자 번호(2~27, 21,22 없음) / trial : 시행 횟수 / level : 끈적임 레벨 / modality : 자극 방식(시각 / 촉각 / 청각) / orders : 반복 횟수\n",
    "# 피실험자 당 실험 횟수 : (반복횟수) * (시행 횟수) * (자극 방식) --> 2 * 48 * 3 = 288\n",
    "# 총 실험 횟수 : (피실험자 당 실험 횟수) * (피실험자 수) --> 288 * 24 = 6912\n",
    "\n",
    "df = pd.read_csv('./안쓰는 파일/bhv_data_AllinOne.csv',index_col=0)\n",
    "df = pd.DataFrame(df)\n",
    "df = df.drop(columns={'resp','correct','block'})\n",
    "\n",
    "modality_list = list(df['modality'].unique())\n",
    "level_list = list(df['level'].unique())\n",
    "df"
   ]
  },
  {
   "cell_type": "markdown",
   "metadata": {},
   "source": [
    "### 자극 modality 별 level 분류하여 폴더에 저장"
   ]
  },
  {
   "cell_type": "code",
   "execution_count": null,
   "metadata": {},
   "outputs": [],
   "source": [
    "# for modal in modality_list: # ['visual','auditory','touch']\n",
    "#     os.mkdir(f'./MRI_train/{modal}')\n",
    "#     for level in level_list: # [1, 2, 3, 4]\n",
    "#         new_df = df.loc[(df['modality'] == modal) & (df['level'] == level)] # 'visual & level 1~4'\n",
    "#         new_df.to_csv(f'./MRI_train/{modal}/level_{level}.csv')"
   ]
  },
  {
   "cell_type": "markdown",
   "metadata": {},
   "source": [
    "### EX) 002_auditory_01_trial_0001_correct_beta.nii\n",
    "\n",
    "- [002 ~ 027(21,22 제외)] subj\n",
    "- [touch,visual,auditory] modality\n",
    "- [01,02] orders\n",
    "- [0001~0055] trial\n",
    "- [correct,incorrect] \n",
    "- [beta,nonbeta].nii \n",
    "\n",
    "csv 파일의 subj 의 trial로 .nii 파일의 level을 매칭할 수 있음"
   ]
  },
  {
   "cell_type": "code",
   "execution_count": 8,
   "metadata": {},
   "outputs": [
    {
     "name": "stdout",
     "output_type": "stream",
     "text": [
      "[2, 3, 4, 5, 6, 7, 8, 9, 10, 11, 12, 13, 14, 15, 16, 17, 18, 19, 20, 23, 24, 25, 26, 27]\n"
     ]
    }
   ],
   "source": [
    "# 피실험자 subj 넘버 리스트 생성\n",
    "subj_list_under_10 = ['00'+str(i) for i in range(2,10)]\n",
    "subj_list_over_10 = ['0'+ str(i) for i in range(10,28) if i not in [21,22]]\n",
    "subj_list = subj_list_under_10 + subj_list_over_10\n",
    "\n",
    "# 자극 방식 리스트\n",
    "modality_list\n",
    "\n",
    "# 반복 횟수 리스트\n",
    "orders_list = ['01','02']\n",
    "\n",
    "# 시도횟수 리스트 \n",
    "trial_list_under_10 = ['000'+str(i) for i in range(1,10)]\n",
    "trial_list_over_10 = ['00'+str(i) for i in range(10,49)]\n",
    "trial_list = trial_list_under_10 + trial_list_over_10\n",
    "\n",
    "# correct 리스트\n",
    "correct_list = ['correct','incorrect']\n",
    "\n",
    "# .nii 파일 리스트\n",
    "file_path = './raw_beta_map/'\n",
    "file_name_list = os.listdir(file_path)"
   ]
  },
  {
   "cell_type": "markdown",
   "metadata": {},
   "source": [
    "### .nii 파일 분류"
   ]
  },
  {
   "cell_type": "code",
   "execution_count": 44,
   "metadata": {},
   "outputs": [],
   "source": [
    "# subj + '_' + modality + '_' + orders + '_' + 'trial' + '_' + trial + '_' + correct + '_' + 'beta.nii'\n",
    "src = './raw_beta_map/'\n",
    "for subj in subj_list: # 002_\n",
    "    for modality in modality_list: # 002_auditory_\n",
    "        dir = f'./MRI_nii/{modality}/'\n",
    "        for orders in orders_list: # 002_auditory_01_\n",
    "            for trial in trial_list: # 002_auditory_01_trial_0001_\n",
    "                for correct in correct_list: # 002_auditory_01_trial_0001_correct_\n",
    "                    file_name = subj + '_' + modality + '_' + orders + '_' + 'trial' + '_' + trial + '_' + correct + '_' + 'beta.nii'\n",
    "                    new_df = df[(df['subj']==int(subj)) & (df['trial']==int(trial)) & (df['orders'] == int(orders)) & (df['modality'] == modality)]\n",
    "                    level = new_df['level'].values[0]\n",
    "                    \n",
    "                    if file_name in file_name_list: # 예외 처리\n",
    "                        shutil.move(src+file_name, dir+f'level_{level}/'+file_name)"
   ]
  }
 ],
 "metadata": {
  "kernelspec": {
   "display_name": "Python 3.10.2 64-bit",
   "language": "python",
   "name": "python3"
  },
  "language_info": {
   "codemirror_mode": {
    "name": "ipython",
    "version": 3
   },
   "file_extension": ".py",
   "mimetype": "text/x-python",
   "name": "python",
   "nbconvert_exporter": "python",
   "pygments_lexer": "ipython3",
   "version": "3.10.2"
  },
  "orig_nbformat": 4,
  "vscode": {
   "interpreter": {
    "hash": "df95319d8ce4e1d89f5365ae10992bc1f65da593082b1d264e8f529830ec2f02"
   }
  }
 },
 "nbformat": 4,
 "nbformat_minor": 2
}
